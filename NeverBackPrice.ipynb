{
 "cells": [
  {
   "cell_type": "code",
   "execution_count": 24,
   "metadata": {
    "scrolled": true
   },
   "outputs": [
    {
     "name": "stdout",
     "output_type": "stream",
     "text": [
      "Collecting opencv-python\n",
      "  Downloading opencv_python-4.5.2.54-cp38-cp38-win_amd64.whl (34.7 MB)\n",
      "Requirement already satisfied: numpy>=1.17.3 in c:\\users\\moi\\anaconda3\\lib\\site-packages (from opencv-python) (1.18.5)\n",
      "Installing collected packages: opencv-python\n",
      "Successfully installed opencv-python-4.5.2.54\n"
     ]
    }
   ],
   "source": [
    "!pip install opencv-python\n",
    "\n"
   ]
  },
  {
   "cell_type": "code",
   "execution_count": 13,
   "metadata": {
    "scrolled": true
   },
   "outputs": [
    {
     "data": {
      "text/plain": [
       "Text(2015-01-14 00:00:00, 178.102997, '178.102997')"
      ]
     },
     "execution_count": 13,
     "metadata": {},
     "output_type": "execute_result"
    },
    {
     "data": {
      "image/png": "[encoded data removed]",
      "text/plain": [
       "<Figure size 576x576 with 1 Axes>"
      ]
     },
     "metadata": {
      "needs_background": "light"
     },
     "output_type": "display_data"
    }
   ],
   "source": [
    "import cv2, os\n",
    "import pandas as pd\n",
    "import datetime, time\n",
    "import matplotlib.ticker as ticker\n",
    "import matplotlib.dates as mdates\n",
    "from pylab import *\n",
    "from matplotlib.artist import Artist\n",
    "import matplotlib.pyplot as plt\n",
    "import matplotlib.animation as animation\n",
    "import numpy as np\n",
    "\n",
    " \n",
    "\n",
    "\n",
    "#construire une base de données à partir des fichiers excel\n",
    "df_btc = pd.read_csv('BTC-USD.csv')#BITCOIN\n",
    "#supprimer les champs vides\n",
    "df_btc.dropna(inplace=True)\n",
    "#conversion date type\n",
    "df_btc['Date'] = pd.to_datetime(df_btc['Date'],dayfirst=True)\n",
    "# dataframe BTC \n",
    "df_btc = df_btc[['Date','Open','Close']]\n",
    "\n",
    "\n",
    "# Set up formatting for the movie files\n",
    "Writer = animation.writers['ffmpeg']\n",
    "writer = Writer(fps=15, metadata=dict(artist='Me'), bitrate=1800)\n",
    "\n",
    "\n",
    "# variables declaration\n",
    "x = df_btc['Date'].tolist()\n",
    "y = df_btc['Close'].values.tolist()\n",
    "z,w=[x[0]], [y[0]]\n",
    "nbp,d=[y[0]],[x[0]]\n",
    "index,p=0,y[0]\n",
    "m=y[0]\n",
    "\n",
    "plt.ion()\n",
    "figure, ax = plt.subplots(figsize=(8,8))\n",
    "#add title\n",
    "plt.title(\"Evolution of BTC\")\n",
    "\n",
    "#setup axes: automatic graduation of x axis\n",
    "locator = mdates.AutoDateLocator()\n",
    "formatter = mdates.ConciseDateFormatter(locator)\n",
    "ax.xaxis.set_major_locator(locator)\n",
    "ax.xaxis.set_major_formatter(formatter)\n",
    "\n",
    "\n",
    "#add text\n",
    "txt=plt.text(x[0],y[0],str(y[0]))\n",
    "vid=[]\n",
    "k=0\n",
    "for i in range(1,600):\n",
    "    \n",
    "    Artist.remove(txt)#remove texte\n",
    "    z.append((x[i]))#ajouter un élément à la fin de z\n",
    "    w.append((y[i]))\n",
    "    \n",
    "    #ims.append(plt.plot()) #tracer w en foction de z\n",
    "    \n",
    "    for j in range(1,i+1):\n",
    "        if y[j]<m:\n",
    "            m=y[j]\n",
    "            index=j\n",
    "            \n",
    "   \n",
    "    nbp.append(m)\n",
    "    d.append(x[index])\n",
    "    \n",
    "    txt=plt.text(x[i],y[i],str(y[i]))#ajouter du texte\n",
    "    \n",
    "    im = ax.plot(z,w,'b',d,nbp,'r')\n",
    "    plt.legend([\"BTC\",\"Never Back Price\"])\n",
    "    plt.savefig(os.path.join('./images/', str(i)+'.png'))\n",
    "    ax.spines['right'].set_color('none')\n",
    "    ax.spines['top'].set_color('none')\n",
    "    \n",
    "plt.text(x[index],m,str(m))   \n",
    "\n",
    "        \n",
    "       "
   ]
  },
  {
   "cell_type": "code",
   "execution_count": 14,
   "metadata": {},
   "outputs": [],
   "source": [
    "img=[]\n",
    "for i in range(1,600):\n",
    "    img.append(cv2.imread('./images/'+str(i)+'.png'))\n",
    "\n",
    "height,width,layers=img[1].shape\n",
    "\n",
    "video=cv2.VideoWriter('vid.mp4',-1,10,(width,height))\n",
    "\n",
    "for j in range(1,len(img)):\n",
    "    video.write(img[j])\n",
    "\n",
    "cv2.destroyAllWindows()\n",
    "video.release()\n"
   ]
  },
  {
   "cell_type": "code",
   "execution_count": null,
   "metadata": {},
   "outputs": [],
   "source": []
  }
 ],
 "metadata": {
  "kernelspec": {
   "display_name": "Python 3",
   "language": "python",
   "name": "python3"
  },
  "language_info": {
   "codemirror_mode": {
    "name": "ipython",
    "version": 3
   },
   "file_extension": ".py",
   "mimetype": "text/x-python",
   "name": "python",
   "nbconvert_exporter": "python",
   "pygments_lexer": "ipython3",
   "version": "3.8.3"
  }
 },
 "nbformat": 4,
 "nbformat_minor": 4
}
