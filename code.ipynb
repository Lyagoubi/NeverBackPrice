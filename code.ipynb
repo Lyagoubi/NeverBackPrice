{
 "cells": [
  {
   "cell_type": "code",
   "execution_count": 1,
   "metadata": {},
   "outputs": [],
   "source": [
    "import pandas as pd\n",
    "import matplotlib.pyplot as plt\n",
    "\n",
    "#construire une base de données à partir des fichiers excel\n",
    "df_btc = pd.read_csv('BTC-USD.csv')#BITCOIN\n",
    "df_bnb = pd.read_csv('BNB-USD.csv')#BINANCE COIN\n",
    "df_ada = pd.read_csv('ADA-USD.csv')#CARDANO\n",
    "df_eth = pd.read_csv('ETH-USD.csv')#ETHERIUM\n",
    "df_doge = pd.read_csv('DOGE-USD.csv')#DOGE COIN\n",
    "\n",
    "#print(df.to_string())\n"
   ]
  },
  {
   "cell_type": "code",
   "execution_count": 2,
   "metadata": {},
   "outputs": [],
   "source": [
    "#supprimer les champs vides\n",
    "df_btc.dropna(inplace=True)\n",
    "df_bnb.dropna(inplace=True)\n",
    "df_ada.dropna(inplace=True)\n",
    "df_eth.dropna(inplace=True)\n",
    "df_doge.dropna(inplace=True)\n",
    "\n",
    "#conversion du type date\n",
    "\n",
    "df_btc['Date'] = pd.to_datetime(df_btc['Date'],dayfirst=True)\n",
    "df_bnb['Date'] = pd.to_datetime(df_bnb['Date'],dayfirst=True)\n",
    "df_ada['Date'] = pd.to_datetime(df_ada['Date'],dayfirst=True)\n",
    "df_eth['Date'] = pd.to_datetime(df_eth['Date'],dayfirst=True)\n",
    "df_doge['Date'] = pd.to_datetime(df_doge['Date'],dayfirst=True)\n",
    "\n",
    "# alléger la base de données\n",
    "# BTC\n",
    "df_btc = df_btc[['Date','Open','Close']]\n",
    "df_btc = df_btc.rename(columns = {'Open': 'Open BTC', 'Close': 'Close BTC'})\n",
    "# BNB\n",
    "df_bnb = df_bnb[['Date','Open','Close']]\n",
    "df_bnb = df_bnb.rename(columns = {'Open': 'Open BNB', 'Close': 'Close BNB'})\n",
    "# ADA\n",
    "df_ada = df_ada[['Date','Open','Close']]\n",
    "df_ada = df_ada.rename(columns = {'Open': 'Open ADA', 'Close': 'Close ADA'})\n",
    "#ETH\n",
    "df_eth = df_eth[['Date','Open','Close']]\n",
    "df_eth = df_eth.rename(columns = {'Open': 'Open ETH', 'Close': 'Close ETH'})\n",
    "# DOGE\n",
    "df_doge = df_doge[['Date','Open','Close']]\n",
    "df_doge = df_doge.rename(columns = {'Open': 'Open DOGE', 'Close': 'Close DOGE'})\n"
   ]
  },
  {
   "cell_type": "code",
   "execution_count": 3,
   "metadata": {},
   "outputs": [],
   "source": [
    "#jointure des données\n",
    "df_crypto = df_btc.join(df_eth.set_index('Date'), on='Date')\n",
    "df_crypto = df_crypto.join(df_bnb.set_index('Date'), on='Date')\n",
    "df_crypto = df_crypto.join(df_ada.set_index('Date'), on='Date')\n",
    "df_crypto = df_crypto.join(df_doge.set_index('Date'), on='Date')\n"
   ]
  },
  {
   "cell_type": "code",
   "execution_count": 4,
   "metadata": {
    "scrolled": true
   },
   "outputs": [
    {
     "data": {
      "image/png": "[encoded data removed]",
      "text/plain": [
       "<Figure size 432x288 with 1 Axes>"
      ]
     },
     "metadata": {
      "needs_background": "light"
     },
     "output_type": "display_data"
    }
   ],
   "source": [
    "#tracer des courbes qui illustrent l'évolution de certain cryptomonnaies \n",
    "ax = plt.gca()\n",
    "\n",
    "df_crypto.plot(x = 'Date', y = 'Close BTC',ax=ax)\n",
    "df_crypto.plot(x = 'Date', y = 'Close BNB',ax=ax)\n",
    "df_crypto.plot(x = 'Date', y = 'Close ETH',ax=ax)\n",
    "df_crypto.plot(x = 'Date', y = 'Close ADA',ax=ax)\n",
    "df_crypto.plot(x = 'Date', y = 'Close DOGE',ax=ax)\n",
    "plt.show()"
   ]
  },
  {
   "cell_type": "code",
   "execution_count": 5,
   "metadata": {
    "scrolled": true
   },
   "outputs": [
    {
     "name": "stdout",
     "output_type": "stream",
     "text": [
      "Requirement already satisfied: bar-chart-race in c:\\users\\moi\\anaconda3\\lib\\site-packages (0.1.0)\n",
      "Requirement already satisfied: matplotlib>=3.1 in c:\\users\\moi\\anaconda3\\lib\\site-packages (from bar-chart-race) (3.2.2)\n",
      "Requirement already satisfied: pandas>=0.24 in c:\\users\\moi\\anaconda3\\lib\\site-packages (from bar-chart-race) (1.0.5)\n",
      "Requirement already satisfied: cycler>=0.10 in c:\\users\\moi\\anaconda3\\lib\\site-packages (from matplotlib>=3.1->bar-chart-race) (0.10.0)\n",
      "Requirement already satisfied: kiwisolver>=1.0.1 in c:\\users\\moi\\anaconda3\\lib\\site-packages (from matplotlib>=3.1->bar-chart-race) (1.2.0)\n",
      "Requirement already satisfied: numpy>=1.11 in c:\\users\\moi\\anaconda3\\lib\\site-packages (from matplotlib>=3.1->bar-chart-race) (1.18.5)\n",
      "Requirement already satisfied: python-dateutil>=2.1 in c:\\users\\moi\\anaconda3\\lib\\site-packages (from matplotlib>=3.1->bar-chart-race) (2.8.1)\n",
      "Requirement already satisfied: pyparsing!=2.0.4,!=2.1.2,!=2.1.6,>=2.0.1 in c:\\users\\moi\\anaconda3\\lib\\site-packages (from matplotlib>=3.1->bar-chart-race) (2.4.7)\n",
      "Requirement already satisfied: pytz>=2017.2 in c:\\users\\moi\\anaconda3\\lib\\site-packages (from pandas>=0.24->bar-chart-race) (2020.1)\n",
      "Requirement already satisfied: six in c:\\users\\moi\\anaconda3\\lib\\site-packages (from cycler>=0.10->matplotlib>=3.1->bar-chart-race) (1.15.0)\n"
     ]
    }
   ],
   "source": [
    "!pip install bar-chart-race"
   ]
  },
  {
   "cell_type": "code",
   "execution_count": 6,
   "metadata": {
    "scrolled": true
   },
   "outputs": [],
   "source": [
    "import bar_chart_race as bcr\n",
    "\n",
    "new_df_crypto = df_crypto[['Date','Close BTC', 'Close ETH', 'Close BNB', 'Close ADA', 'Close DOGE']]\n",
    "new_df_crypto = new_df_crypto.rename(columns = {'Close BTC': 'BTC', 'Close ETH': 'ETH', 'Close BNB':'BNB', 'Close ADA':'ADA', 'Close DOGE':'DOGE'})\n",
    "# respecter la forme du dataframe définie par bar_chart_race\n",
    "# mettre la colonne date en index \n",
    "new_df_crypto.set_index('Date', inplace = True)\n",
    "# supprimer le nom de l'index\n",
    "new_df_crypto.index.name=None\n",
    "df_crypto1 = new_df_crypto[['BTC', 'ETH']]\n",
    "df_crypto2 = new_df_crypto[['BNB', 'ADA', 'DOGE']]"
   ]
  },
  {
   "cell_type": "code",
   "execution_count": 7,
   "metadata": {},
   "outputs": [],
   "source": [
    "# en cas d'erreur installer ffmpeg avec la ligne de commande  \n",
    "# conda install -c conda-forge ffmpeg\n",
    "bcr.bar_chart_race(\n",
    "    df=new_df_crypto,\n",
    "    filename='anime.mp4',\n",
    "    title='Evolution de 5 cryptomonnaies entre 06/2020 et 06/2021'\n",
    ")"
   ]
  },
  {
   "cell_type": "code",
   "execution_count": 8,
   "metadata": {},
   "outputs": [
    {
     "data": {
      "text/html": [
       "<div>\n",
       "<style scoped>\n",
       "    .dataframe tbody tr th:only-of-type {\n",
       "        vertical-align: middle;\n",
       "    }\n",
       "\n",
       "    .dataframe tbody tr th {\n",
       "        vertical-align: top;\n",
       "    }\n",
       "\n",
       "    .dataframe thead th {\n",
       "        text-align: right;\n",
       "    }\n",
       "</style>\n",
       "<table border=\"1\" class=\"dataframe\">\n",
       "  <thead>\n",
       "    <tr style=\"text-align: right;\">\n",
       "      <th></th>\n",
       "      <th>BTC</th>\n",
       "      <th>ETH</th>\n",
       "      <th>BNB</th>\n",
       "      <th>ADA</th>\n",
       "      <th>DOGE</th>\n",
       "    </tr>\n",
       "  </thead>\n",
       "  <tbody>\n",
       "    <tr>\n",
       "      <th>BTC</th>\n",
       "      <td>1.000000</td>\n",
       "      <td>0.877198</td>\n",
       "      <td>0.820276</td>\n",
       "      <td>0.867936</td>\n",
       "      <td>0.562020</td>\n",
       "    </tr>\n",
       "    <tr>\n",
       "      <th>ETH</th>\n",
       "      <td>0.877198</td>\n",
       "      <td>1.000000</td>\n",
       "      <td>0.926539</td>\n",
       "      <td>0.948780</td>\n",
       "      <td>0.861200</td>\n",
       "    </tr>\n",
       "    <tr>\n",
       "      <th>BNB</th>\n",
       "      <td>0.820276</td>\n",
       "      <td>0.926539</td>\n",
       "      <td>1.000000</td>\n",
       "      <td>0.919127</td>\n",
       "      <td>0.856662</td>\n",
       "    </tr>\n",
       "    <tr>\n",
       "      <th>ADA</th>\n",
       "      <td>0.867936</td>\n",
       "      <td>0.948780</td>\n",
       "      <td>0.919127</td>\n",
       "      <td>1.000000</td>\n",
       "      <td>0.804731</td>\n",
       "    </tr>\n",
       "    <tr>\n",
       "      <th>DOGE</th>\n",
       "      <td>0.562020</td>\n",
       "      <td>0.861200</td>\n",
       "      <td>0.856662</td>\n",
       "      <td>0.804731</td>\n",
       "      <td>1.000000</td>\n",
       "    </tr>\n",
       "  </tbody>\n",
       "</table>\n",
       "</div>"
      ],
      "text/plain": [
       "           BTC       ETH       BNB       ADA      DOGE\n",
       "BTC   1.000000  0.877198  0.820276  0.867936  0.562020\n",
       "ETH   0.877198  1.000000  0.926539  0.948780  0.861200\n",
       "BNB   0.820276  0.926539  1.000000  0.919127  0.856662\n",
       "ADA   0.867936  0.948780  0.919127  1.000000  0.804731\n",
       "DOGE  0.562020  0.861200  0.856662  0.804731  1.000000"
      ]
     },
     "execution_count": 8,
     "metadata": {},
     "output_type": "execute_result"
    }
   ],
   "source": [
    "#étudier la corrélation entre les cryptomonnaies\n",
    "new_df_crypto.corr()"
   ]
  },
  {
   "cell_type": "code",
   "execution_count": 228,
   "metadata": {},
   "outputs": [
    {
     "name": "stdout",
     "output_type": "stream",
     "text": [
      "Collecting pandas_alive\n",
      "  Downloading pandas_alive-0.2.4-py3-none-any.whl (38 kB)\n",
      "Requirement already satisfied: matplotlib<4.0.0,>=3.2.1 in c:\\users\\moi\\anaconda3\\lib\\site-packages (from pandas_alive) (3.2.2)\n",
      "Requirement already satisfied: attrs<20.0.0,>=19.3.0 in c:\\users\\moi\\anaconda3\\lib\\site-packages (from pandas_alive) (19.3.0)\n",
      "Requirement already satisfied: pandas<2.0.0,>=1.0.3 in c:\\users\\moi\\anaconda3\\lib\\site-packages (from pandas_alive) (1.0.5)\n",
      "Requirement already satisfied: pillow<8.0.0,>=7.1.2 in c:\\users\\moi\\anaconda3\\lib\\site-packages (from pandas_alive) (7.2.0)\n",
      "Requirement already satisfied: cycler>=0.10 in c:\\users\\moi\\anaconda3\\lib\\site-packages (from matplotlib<4.0.0,>=3.2.1->pandas_alive) (0.10.0)\n",
      "Requirement already satisfied: numpy>=1.11 in c:\\users\\moi\\anaconda3\\lib\\site-packages (from matplotlib<4.0.0,>=3.2.1->pandas_alive) (1.18.5)\n",
      "Requirement already satisfied: python-dateutil>=2.1 in c:\\users\\moi\\anaconda3\\lib\\site-packages (from matplotlib<4.0.0,>=3.2.1->pandas_alive) (2.8.1)\n",
      "Requirement already satisfied: kiwisolver>=1.0.1 in c:\\users\\moi\\anaconda3\\lib\\site-packages (from matplotlib<4.0.0,>=3.2.1->pandas_alive) (1.2.0)\n",
      "Requirement already satisfied: pyparsing!=2.0.4,!=2.1.2,!=2.1.6,>=2.0.1 in c:\\users\\moi\\anaconda3\\lib\\site-packages (from matplotlib<4.0.0,>=3.2.1->pandas_alive) (2.4.7)\n",
      "Requirement already satisfied: pytz>=2017.2 in c:\\users\\moi\\anaconda3\\lib\\site-packages (from pandas<2.0.0,>=1.0.3->pandas_alive) (2020.1)\n",
      "Requirement already satisfied: six in c:\\users\\moi\\anaconda3\\lib\\site-packages (from cycler>=0.10->matplotlib<4.0.0,>=3.2.1->pandas_alive) (1.15.0)\n",
      "Installing collected packages: pandas-alive\n",
      "Successfully installed pandas-alive-0.2.4\n"
     ]
    }
   ],
   "source": [
    "!pip install pandas_alive"
   ]
  },
  {
   "cell_type": "code",
   "execution_count": 248,
   "metadata": {
    "scrolled": true
   },
   "outputs": [
    {
     "name": "stdout",
     "output_type": "stream",
     "text": [
      "Generating LineChart, plotting ['BTC', 'ETH']\n"
     ]
    },
    {
     "name": "stderr",
     "output_type": "stream",
     "text": [
      "C:\\Users\\moi\\anaconda3\\lib\\site-packages\\pandas_alive\\charts.py:516: UserWarning: Discarding nonzero nanoseconds in conversion\n",
      "  super().set_x_y_limits(self.df, i, self.ax)\n"
     ]
    },
    {
     "name": "stdout",
     "output_type": "stream",
     "text": [
      "Generating LineChart, plotting ['BNB', 'ADA', 'DOGE']\n"
     ]
    },
    {
     "name": "stderr",
     "output_type": "stream",
     "text": [
      "C:\\Users\\moi\\anaconda3\\lib\\site-packages\\pandas_alive\\charts.py:516: UserWarning: Discarding nonzero nanoseconds in conversion\n",
      "  super().set_x_y_limits(self.df, i, self.ax)\n"
     ]
    },
    {
     "data": {
      "text/plain": [
       "LineChart(df=                                      BNB       ADA      DOGE\n",
       "index                                                        \n",
       "2020-06-03 00:00:00.000000000   17.545404  0.085439  0.002583\n",
       "2020-06-03 04:50:23.204419889   17.549498  0.086151  0.002593\n",
       "2020-06-03 09:40:46.408839779   17.553592  0.086863  0.002602\n",
       "2020-06-03 14:31:09.613259668   17.557686  0.087576  0.002612\n",
       "2020-06-03 19:21:32.817679558   17.561780  0.088288  0.002621\n",
       "...                                   ...       ...       ...\n",
       "2021-06-02 04:38:27.182320440  406.571448  1.770353  0.418692\n",
       "2021-06-02 09:28:50.386740332  411.880566  1.787883  0.414010\n",
       "2021-06-02 14:19:13.591160220  417.189685  1.805412  0.409327\n",
       "2021-06-02 19:09:36.795580108  422.498803  1.822942  0.404645\n",
       "2021-06-03 00:00:00.000000000  427.807922  1.840471  0.399963\n",
       "\n",
       "[1811 rows x 3 columns], interpolate_period=True, steps_per_period=5, period_length=500, period_fmt='%d/%m/%Y', figsize=array([6.5, 3.5]), title='Evolution Over Time', fig=<Figure size 936x504 with 1 Axes>, cmap='dark24', tick_label_size=7, period_label=True, period_summary_func=None, fixed_max=False, dpi=144, writer=None, enable_progress_bar=False, kwargs={}, line_width=2, label_events=None, fill_under_line_color=None, add_legend=True)"
      ]
     },
     "execution_count": 248,
     "metadata": {},
     "output_type": "execute_result"
    }
   ],
   "source": [
    "import pandas_alive\n",
    "\n",
    "new_df_crypto.plot_animated(kind='line',filename=\"animation1.mp4\",title=\"Evolution Over Time\")\n",
    "\n"
   ]
  },
  {
   "cell_type": "code",
   "execution_count": 29,
   "metadata": {},
   "outputs": [],
   "source": [
    "import pandas as pd\n",
    "import datetime, time\n",
    "import matplotlib.ticker as ticker\n",
    "import matplotlib.dates as mdates\n",
    "from pylab import *\n",
    "from matplotlib.artist import Artist\n",
    "import matplotlib.pyplot as plt\n",
    "import matplotlib.animation as animation\n",
    "\n",
    "\n",
    "#construire une base de données à partir des fichiers excel\n",
    "df_btc = pd.read_csv('BTC-USD.csv')#BITCOIN\n",
    "#supprimer les champs vides\n",
    "df_btc.dropna(inplace=True)\n",
    "#conversion du type date\n",
    "df_btc['Date'] = pd.to_datetime(df_btc['Date'],dayfirst=True)\n",
    "# BTC\n",
    "df_btc = df_btc[['Date','Open','Close']]\n",
    "\n",
    "\n",
    "# Set up formatting for the movie files\n",
    "Writer = animation.writers['ffmpeg']\n",
    "writer = Writer(fps=15, metadata=dict(artist='Me'), bitrate=1800)\n",
    "\n",
    "\n",
    "fig, ax = plt.subplots(constrained_layout=True)\n",
    "# \n",
    "locator = mdates.AutoDateLocator()\n",
    "formatter = mdates.ConciseDateFormatter(locator)\n",
    "ax.xaxis.set_major_locator(locator)\n",
    "ax.xaxis.set_major_formatter(formatter)\n",
    "\n",
    "x = df_btc['Date'].tolist()\n",
    "y = df_btc['Close'].values.tolist()\n",
    "\n",
    "z,w=[x[0]], [y[0]]\n",
    "p1,p2=[], []\n",
    "mn,d=[y[0]],[x[0]]\n",
    "index,p=0,0.0\n",
    "index_max,mx=0,y[0]\n",
    "ims = []\n",
    "\n",
    "#for i in range(len(x)):\n",
    " #   x[i]=x[i].strftime(\"%d-%m-%Y\")\n",
    "\n",
    "txt=plt.text(x[0],y[0],str(y[0]))\n",
    "\n",
    "for i in range(1,10):\n",
    "    \n",
    "    Artist.remove(txt)#remove texte\n",
    "    z.append((x[i]))#ajouter un élément à la fin de z\n",
    "    w.append((y[i]))\n",
    "    \n",
    "    #ims.append(plt.plot()) #tracer w en foction de z\n",
    "    \n",
    "    for j in range(i):\n",
    "        if w[j-1]>w[j]:\n",
    "            p=w[j]\n",
    "            index=j\n",
    "            mx=w[j-1]\n",
    "            index_max=j-1\n",
    "    \n",
    "    mn.append(p)\n",
    "    d.append(x[index])\n",
    "    txt=plt.text(z[i],w[i],str(w[i]))#ajouter du texte\n",
    "   \n",
    "    ims.append(plt.plot(z, w,'b--',d, mn,'r--'))\n",
    "    plt.pause(0.01) # pause avec duree en secondes\n",
    "\n",
    "im_ani = animation.ArtistAnimation(fig, ims, interval=10, repeat=True,blit=True)\n",
    "\n",
    "im_ani.save('im.mp4', writer=writer)   \n",
    "\n",
    "\n",
    "#plt.show()\n",
    "\n",
    "\n",
    "#def animate(i):\n",
    "#    z.append(x[i])\n",
    "#   w.append((y[i]))\n",
    " #   plt.plot(z,w, color=\"red\")\n",
    "    \n",
    "    \n",
    "    \n",
    "#anim = FuncAnimation(fig, animate, interval=100)\n",
    "#anim.save('lines.mp4', fps=15)"
   ]
  },
  {
   "cell_type": "code",
   "execution_count": null,
   "metadata": {},
   "outputs": [],
   "source": []
  },
  {
   "cell_type": "code",
   "execution_count": null,
   "metadata": {},
   "outputs": [],
   "source": []
  }
 ],
 "metadata": {
  "kernelspec": {
   "display_name": "Python 3",
   "language": "python",
   "name": "python3"
  },
  "language_info": {
   "codemirror_mode": {
    "name": "ipython",
    "version": 3
   },
   "file_extension": ".py",
   "mimetype": "text/x-python",
   "name": "python",
   "nbconvert_exporter": "python",
   "pygments_lexer": "ipython3",
   "version": "3.8.3"
  }
 },
 "nbformat": 4,
 "nbformat_minor": 4
}
